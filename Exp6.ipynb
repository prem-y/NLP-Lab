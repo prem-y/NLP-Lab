{
 "cells": [
  {
   "cell_type": "code",
   "execution_count": 5,
   "id": "c5279c82-bc97-4b3d-a2ad-9f132a1f8a42",
   "metadata": {},
   "outputs": [
    {
     "name": "stdout",
     "output_type": "stream",
     "text": [
      "Top 2 relevant documents using Euclidean distance:\n",
      "1. Document: 'Shipment of gold arrived in a truck'\n",
      "   Euclidean Distance: 2.2361\n",
      "\n",
      "2. Document: 'Purchased silver and gold arrived in a wooden truck'\n",
      "   Euclidean Distance: 2.2361\n",
      "\n",
      "Top 2 relevant documents using Manhattan distance:\n",
      "1. Document: 'Shipment of gold arrived in a truck'\n",
      "   Manhattan Distance: 5.0000\n",
      "\n",
      "2. Document: 'Purchased silver and gold arrived in a wooden truck'\n",
      "   Manhattan Distance: 5.0000\n",
      "\n",
      "Top 2 relevant documents using Cosine similarity:\n",
      "1. Document: 'Purchased silver and gold arrived in a wooden truck'\n",
      "   Cosine Similarity: 0.6124\n",
      "\n",
      "2. Document: 'Delivery of silver arrived in a silver truck'\n",
      "   Cosine Similarity: 0.5774\n",
      "\n"
     ]
    }
   ],
   "source": [
    "from sklearn.feature_extraction.text import CountVectorizer\n",
    "from scipy.spatial.distance import euclidean, cityblock\n",
    "from sklearn.metrics.pairwise import cosine_similarity\n",
    "\n",
    "# List of documents\n",
    "documents = [\n",
    "    \"Shipment of gold damaged in a fire\",\n",
    "    \"Delivery of silver arrived in a silver truck\",\n",
    "    \"Shipment of gold arrived in a truck\",\n",
    "    \"Purchased silver and gold arrived in a wooden truck\",\n",
    "    \"The arrival of gold and silver shipment is delayed.\"\n",
    "]\n",
    "\n",
    "# Query document\n",
    "query = \"gold silver truck\"\n",
    "\n",
    "# Vectorize documents and query\n",
    "vectorizer = CountVectorizer()\n",
    "X = vectorizer.fit_transform(documents).toarray()\n",
    "query_vec = vectorizer.transform([query]).toarray().flatten()\n",
    "\n",
    "# Calculate similarities\n",
    "euclidean_distances = [euclidean(query_vec, doc) for doc in X]\n",
    "manhattan_distances = [cityblock(query_vec, doc) for doc in X]\n",
    "cosine_similarities = cosine_similarity([query_vec], X).flatten()\n",
    "\n",
    "# Combine documents with their distances for ranking\n",
    "documents_with_distances = list(zip(documents, euclidean_distances, manhattan_distances, cosine_similarities))\n",
    "\n",
    "# Function to print top 2 relevant documents\n",
    "def print_top_2(docs, key, reverse=False, measure_name=\"\"):\n",
    "    print(f\"Top 2 relevant documents using {measure_name}:\")\n",
    "    sorted_docs = sorted(docs, key=key, reverse=reverse)[:2]\n",
    "    for i, (doc, euclidean_dist, manhattan_dist, cosine_sim) in enumerate(sorted_docs, 1):\n",
    "        value = key((doc, euclidean_dist, manhattan_dist, cosine_sim))\n",
    "        print(f\"{i}. Document: '{doc}'\")\n",
    "        print(f\"   {measure_name}: {value:.4f}\\n\")\n",
    "\n",
    "# Print results\n",
    "print_top_2(documents_with_distances, key=lambda x: x[1], measure_name=\"Euclidean Distance\")\n",
    "print_top_2(documents_with_distances, key=lambda x: x[2], measure_name=\"Manhattan Distance\")\n",
    "print_top_2(documents_with_distances, key=lambda x: x[3], reverse=True, measure_name=\"Cosine Similarity\")\n"
   ]
  }
 ],
 "metadata": {
  "kernelspec": {
   "display_name": "Python 3 (ipykernel)",
   "language": "python",
   "name": "python3"
  },
  "language_info": {
   "codemirror_mode": {
    "name": "ipython",
    "version": 3
   },
   "file_extension": ".py",
   "mimetype": "text/x-python",
   "name": "python",
   "nbconvert_exporter": "python",
   "pygments_lexer": "ipython3",
   "version": "3.11.7"
  }
 },
 "nbformat": 4,
 "nbformat_minor": 5
}
