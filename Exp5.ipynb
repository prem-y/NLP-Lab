{
 "cells": [
  {
   "cell_type": "code",
   "execution_count": 2,
   "id": "6b1fa956-7866-4ee5-afa4-895bdc40c49c",
   "metadata": {},
   "outputs": [
    {
     "name": "stdout",
     "output_type": "stream",
     "text": [
      "The most likely class for the new document - 'fast, couple, shoot, fly' is: action\n"
     ]
    }
   ],
   "source": [
    "from collections import defaultdict\n",
    "import numpy as np\n",
    "\n",
    "# Given movie reviews\n",
    "documents = [\n",
    "    (\"fun, couple, love, love\", \"comedy\"),\n",
    "    (\"fast, furious, shoot\", \"action\"),\n",
    "    (\"couple, fly, fast, fun, fun\", \"comedy\"),\n",
    "    (\"furious, shoot, shoot, fun\", \"action\"),\n",
    "    (\"fly, fast, shoot, love\", \"action\")\n",
    "]\n",
    "\n",
    "# New document\n",
    "new_doc = \"fast, couple, shoot, fly\"\n",
    "\n",
    "# Preprocess the data\n",
    "def preprocess(doc):\n",
    "    return doc.lower().split(\", \")\n",
    "\n",
    "# Initialize variables\n",
    "word_counts = defaultdict(lambda: defaultdict(int))\n",
    "class_counts = defaultdict(int)\n",
    "vocab = set()\n",
    "\n",
    "# Count words and classes\n",
    "for doc, label in documents:\n",
    "    words = preprocess(doc)\n",
    "    class_counts[label] += 1\n",
    "    for word in words:\n",
    "        word_counts[label][word] += 1\n",
    "        vocab.add(word)\n",
    "\n",
    "# Total number of documents\n",
    "total_docs = sum(class_counts.values())\n",
    "\n",
    "# Prior probabilities\n",
    "priors = {label: count / total_docs for label, count in class_counts.items()}\n",
    "\n",
    "# Total word counts for each class and vocabulary size\n",
    "total_words = {label: sum(word_counts[label].values()) for label in word_counts}\n",
    "vocab_size = len(vocab)\n",
    "\n",
    "# Likelihoods with add-1 smoothing\n",
    "def likelihood(word, label):\n",
    "    return (word_counts[label][word] + 1) / (total_words[label] + vocab_size)\n",
    "\n",
    "# Compute posteriors for the new document\n",
    "def compute_posterior(doc, label):\n",
    "    words = preprocess(doc)\n",
    "    posterior = np.log(priors[label])\n",
    "    for word in words:\n",
    "        posterior += np.log(likelihood(word, label))\n",
    "    return posterior\n",
    "\n",
    "# Classify the new document\n",
    "posteriors = {label: compute_posterior(new_doc, label) for label in priors}\n",
    "predicted_class = max(posteriors, key=posteriors.get)\n",
    "\n",
    "print(f\"The most likely class for the new document - '{new_doc}' is: {predicted_class}\")\n"
   ]
  }
 ],
 "metadata": {
  "kernelspec": {
   "display_name": "Python 3 (ipykernel)",
   "language": "python",
   "name": "python3"
  },
  "language_info": {
   "codemirror_mode": {
    "name": "ipython",
    "version": 3
   },
   "file_extension": ".py",
   "mimetype": "text/x-python",
   "name": "python",
   "nbconvert_exporter": "python",
   "pygments_lexer": "ipython3",
   "version": "3.11.7"
  }
 },
 "nbformat": 4,
 "nbformat_minor": 5
}
