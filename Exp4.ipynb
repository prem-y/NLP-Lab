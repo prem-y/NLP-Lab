{
 "cells": [
  {
   "cell_type": "code",
   "execution_count": null,
   "id": "c0993b22-7f1e-4ad2-a978-abd676798a6b",
   "metadata": {
    "tags": []
   },
   "outputs": [
    {
     "name": "stdout",
     "output_type": "stream",
     "text": [
      "Top-Down Parsing:\n",
      "(S (NP (DT the) (NN cat)) (VP (V saw) (NP (DT the) (NN dog))))\n",
      "             S             \n",
      "      _______|___           \n",
      "     |           VP        \n",
      "     |        ___|___       \n",
      "     NP      |       NP    \n",
      "  ___|___    |    ___|___   \n",
      " DT      NN  V   DT      NN\n",
      " |       |   |   |       |  \n",
      "the     cat saw the     dog\n",
      "\n",
      "\n",
      "Bottom-Up Parsing:\n",
      "(S (NP (DT the) (NN cat)) (VP (V saw) (NP (DT the) (NN dog))))\n",
      "             S             \n",
      "      _______|___           \n",
      "     |           VP        \n",
      "     |        ___|___       \n",
      "     NP      |       NP    \n",
      "  ___|___    |    ___|___   \n",
      " DT      NN  V   DT      NN\n",
      " |       |   |   |       |  \n",
      "the     cat saw the     dog\n",
      "\n"
     ]
    }
   ],
   "source": [
    "import nltk\n",
    "from nltk import CFG\n",
    "from nltk.parse import RecursiveDescentParser, ShiftReduceParser\n",
    "\n",
    "# Define a simple context-free grammar\n",
    "grammar = CFG.fromstring(\"\"\"\n",
    "    S -> NP VP\n",
    "    NP -> DT NN\n",
    "    VP -> V NP\n",
    "    DT -> 'the'\n",
    "    NN -> 'cat' | 'dog' | 'telescope' | 'park'\n",
    "    V -> 'saw' | 'chased'\n",
    "\"\"\")\n",
    "\n",
    "# Example sentence\n",
    "sentence = \"the cat saw the dog\".split()\n",
    "\n",
    "# Function to parse and print the parse trees\n",
    "def parse_and_print(parser, sentence, parser_name):\n",
    "    print(f\"\\n{parser_name} Parsing:\")\n",
    "    for tree in parser.parse(sentence):\n",
    "        print(tree)\n",
    "        tree.pretty_print()\n",
    "\n",
    "# Top-Down Parsing using RecursiveDescentParser\n",
    "parse_and_print(RecursiveDescentParser(grammar), sentence, \"Top-Down\")\n",
    "\n",
    "# Bottom-Up Parsing using ShiftReduceParser\n",
    "parse_and_print(ShiftReduceParser(grammar), sentence, \"Bottom-Up\")\n"
   ]
  }
 ],
 "metadata": {
  "kernelspec": {
   "display_name": "Python 3 (ipykernel)",
   "language": "python",
   "name": "python3"
  },
  "language_info": {
   "codemirror_mode": {
    "name": "ipython",
    "version": 3
   },
   "file_extension": ".py",
   "mimetype": "text/x-python",
   "name": "python",
   "nbconvert_exporter": "python",
   "pygments_lexer": "ipython3",
   "version": "3.11.3"
  }
 },
 "nbformat": 4,
 "nbformat_minor": 5
}
