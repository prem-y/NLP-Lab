{
 "cells": [
  {
   "cell_type": "code",
   "execution_count": null,
   "id": "902c9382-e80c-48e3-9b2b-b0f558b218ad",
   "metadata": {},
   "outputs": [],
   "source": [
    "# Download the WordNet data\n",
    "nltk.download('wordnet')\n",
    "nltk.download('omw-1.4')"
   ]
  },
  {
   "cell_type": "code",
   "execution_count": 1,
   "id": "e9a2fdb8-a0fc-4f85-92fa-7a3d42df93e8",
   "metadata": {},
   "outputs": [
    {
     "name": "stderr",
     "output_type": "stream",
     "text": [
      "[nltk_data] Downloading package wordnet to\n",
      "[nltk_data]     C:\\Users\\prems\\AppData\\Roaming\\nltk_data...\n",
      "[nltk_data]   Package wordnet is already up-to-date!\n",
      "[nltk_data] Downloading package omw-1.4 to\n",
      "[nltk_data]     C:\\Users\\prems\\AppData\\Roaming\\nltk_data...\n",
      "[nltk_data]   Package omw-1.4 is already up-to-date!\n"
     ]
    },
    {
     "name": "stdin",
     "output_type": "stream",
     "text": [
      "Enter the word:  good\n"
     ]
    },
    {
     "name": "stdout",
     "output_type": "stream",
     "text": [
      "Synonyms of 'good': {'in_force', 'commodity', 'honorable', 'adept', 'just', 'safe', 'unspoiled', 'thoroughly', 'skilful', 'unspoilt', 'effective', 'honest', 'upright', 'goodness', 'beneficial', 'soundly', 'dear', 'expert', 'dependable', 'in_effect', 'well', 'sound', 'proficient', 'good', 'full', 'serious', 'estimable', 'respectable', 'practiced', 'undecomposed', 'salutary', 'trade_good', 'skillful', 'near', 'secure', 'right', 'ripe'}\n",
      "Antonyms of 'good': {'evilness', 'evil', 'badness', 'bad', 'ill'}\n"
     ]
    }
   ],
   "source": [
    "import nltk\n",
    "from nltk.corpus import wordnet\n",
    "\n",
    "def get_synonyms_antonyms(word):\n",
    "    synonyms = []\n",
    "    antonyms = []\n",
    "    \n",
    "    for syn in wordnet.synsets(word):\n",
    "        for lemma in syn.lemmas():\n",
    "            synonyms.append(lemma.name())\n",
    "            if lemma.antonyms():\n",
    "                antonyms.append(lemma.antonyms()[0].name())\n",
    "    \n",
    "    # Remove duplicates\n",
    "    synonyms = set(synonyms)\n",
    "    antonyms = set(antonyms)\n",
    "    \n",
    "    return synonyms, antonyms\n",
    "\n",
    "# Example usage\n",
    "word = input(\"Enter the word: \")\n",
    "synonyms, antonyms = get_synonyms_antonyms(word)\n",
    "\n",
    "print(f\"Synonyms of '{word}': {synonyms}\")\n",
    "print(f\"Antonyms of '{word}': {antonyms}\")"
   ]
  }
 ],
 "metadata": {
  "kernelspec": {
   "display_name": "Python 3 (ipykernel)",
   "language": "python",
   "name": "python3"
  },
  "language_info": {
   "codemirror_mode": {
    "name": "ipython",
    "version": 3
   },
   "file_extension": ".py",
   "mimetype": "text/x-python",
   "name": "python",
   "nbconvert_exporter": "python",
   "pygments_lexer": "ipython3",
   "version": "3.11.7"
  }
 },
 "nbformat": 4,
 "nbformat_minor": 5
}
